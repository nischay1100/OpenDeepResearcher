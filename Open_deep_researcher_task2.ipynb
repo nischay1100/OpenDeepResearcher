{
  "nbformat": 4,
  "nbformat_minor": 0,
  "metadata": {
    "colab": {
      "provenance": [],
      "authorship_tag": "ABX9TyOdJFQ5ehsfZf3XRIw3eAwI",
      "include_colab_link": true
    },
    "kernelspec": {
      "name": "python3",
      "display_name": "Python 3"
    },
    "language_info": {
      "name": "python"
    }
  },
  "cells": [
    {
      "cell_type": "markdown",
      "metadata": {
        "id": "view-in-github",
        "colab_type": "text"
      },
      "source": [
        "<a href=\"https://colab.research.google.com/github/nischay1100/OpenDeepResearcher/blob/main/Open_deep_researcher_task2.ipynb\" target=\"_parent\"><img src=\"https://colab.research.google.com/assets/colab-badge.svg\" alt=\"Open In Colab\"/></a>"
      ]
    },
    {
      "cell_type": "markdown",
      "source": [
        "## 1 — Setup & Installation"
      ],
      "metadata": {
        "id": "O9VsZFj1h_sY"
      }
    },
    {
      "cell_type": "markdown",
      "source": [
        "1(a) — Install required libraries"
      ],
      "metadata": {
        "id": "JAgr1GJ0iIbu"
      }
    },
    {
      "cell_type": "code",
      "execution_count": null,
      "metadata": {
        "colab": {
          "base_uri": "https://localhost:8080/"
        },
        "id": "NdAiO8YMhzVj",
        "outputId": "07f080f1-0b26-4d37-f204-706a53bc3daf"
      },
      "outputs": [
        {
          "output_type": "stream",
          "name": "stdout",
          "text": [
            "Collecting langgraph\n",
            "  Downloading langgraph-0.6.10-py3-none-any.whl.metadata (6.8 kB)\n",
            "Requirement already satisfied: google-generativeai in /usr/local/lib/python3.12/dist-packages (0.8.5)\n",
            "Collecting tavily-python\n",
            "  Downloading tavily_python-0.7.12-py3-none-any.whl.metadata (7.5 kB)\n",
            "Requirement already satisfied: langchain-core>=0.1 in /usr/local/lib/python3.12/dist-packages (from langgraph) (0.3.78)\n",
            "Collecting langgraph-checkpoint<3.0.0,>=2.1.0 (from langgraph)\n",
            "  Downloading langgraph_checkpoint-2.1.2-py3-none-any.whl.metadata (4.2 kB)\n",
            "Collecting langgraph-prebuilt<0.7.0,>=0.6.0 (from langgraph)\n",
            "  Downloading langgraph_prebuilt-0.6.4-py3-none-any.whl.metadata (4.5 kB)\n",
            "Collecting langgraph-sdk<0.3.0,>=0.2.2 (from langgraph)\n",
            "  Downloading langgraph_sdk-0.2.9-py3-none-any.whl.metadata (1.5 kB)\n",
            "Requirement already satisfied: pydantic>=2.7.4 in /usr/local/lib/python3.12/dist-packages (from langgraph) (2.11.10)\n",
            "Requirement already satisfied: xxhash>=3.5.0 in /usr/local/lib/python3.12/dist-packages (from langgraph) (3.6.0)\n",
            "Requirement already satisfied: google-ai-generativelanguage==0.6.15 in /usr/local/lib/python3.12/dist-packages (from google-generativeai) (0.6.15)\n",
            "Requirement already satisfied: google-api-core in /usr/local/lib/python3.12/dist-packages (from google-generativeai) (2.25.2)\n",
            "Requirement already satisfied: google-api-python-client in /usr/local/lib/python3.12/dist-packages (from google-generativeai) (2.184.0)\n",
            "Requirement already satisfied: google-auth>=2.15.0 in /usr/local/lib/python3.12/dist-packages (from google-generativeai) (2.38.0)\n",
            "Requirement already satisfied: protobuf in /usr/local/lib/python3.12/dist-packages (from google-generativeai) (5.29.5)\n",
            "Requirement already satisfied: tqdm in /usr/local/lib/python3.12/dist-packages (from google-generativeai) (4.67.1)\n",
            "Requirement already satisfied: typing-extensions in /usr/local/lib/python3.12/dist-packages (from google-generativeai) (4.15.0)\n",
            "Requirement already satisfied: proto-plus<2.0.0dev,>=1.22.3 in /usr/local/lib/python3.12/dist-packages (from google-ai-generativelanguage==0.6.15->google-generativeai) (1.26.1)\n",
            "Requirement already satisfied: requests in /usr/local/lib/python3.12/dist-packages (from tavily-python) (2.32.4)\n",
            "Requirement already satisfied: tiktoken>=0.5.1 in /usr/local/lib/python3.12/dist-packages (from tavily-python) (0.12.0)\n",
            "Requirement already satisfied: httpx in /usr/local/lib/python3.12/dist-packages (from tavily-python) (0.28.1)\n",
            "Requirement already satisfied: googleapis-common-protos<2.0.0,>=1.56.2 in /usr/local/lib/python3.12/dist-packages (from google-api-core->google-generativeai) (1.70.0)\n",
            "Requirement already satisfied: cachetools<6.0,>=2.0.0 in /usr/local/lib/python3.12/dist-packages (from google-auth>=2.15.0->google-generativeai) (5.5.2)\n",
            "Requirement already satisfied: pyasn1-modules>=0.2.1 in /usr/local/lib/python3.12/dist-packages (from google-auth>=2.15.0->google-generativeai) (0.4.2)\n",
            "Requirement already satisfied: rsa<5,>=3.1.4 in /usr/local/lib/python3.12/dist-packages (from google-auth>=2.15.0->google-generativeai) (4.9.1)\n",
            "Requirement already satisfied: langsmith<1.0.0,>=0.3.45 in /usr/local/lib/python3.12/dist-packages (from langchain-core>=0.1->langgraph) (0.4.33)\n",
            "Requirement already satisfied: tenacity!=8.4.0,<10.0.0,>=8.1.0 in /usr/local/lib/python3.12/dist-packages (from langchain-core>=0.1->langgraph) (8.5.0)\n",
            "Requirement already satisfied: jsonpatch<2.0.0,>=1.33.0 in /usr/local/lib/python3.12/dist-packages (from langchain-core>=0.1->langgraph) (1.33)\n",
            "Requirement already satisfied: PyYAML<7.0.0,>=5.3.0 in /usr/local/lib/python3.12/dist-packages (from langchain-core>=0.1->langgraph) (6.0.3)\n",
            "Requirement already satisfied: packaging<26.0.0,>=23.2.0 in /usr/local/lib/python3.12/dist-packages (from langchain-core>=0.1->langgraph) (25.0)\n",
            "Collecting ormsgpack>=1.10.0 (from langgraph-checkpoint<3.0.0,>=2.1.0->langgraph)\n",
            "  Downloading ormsgpack-1.11.0-cp312-cp312-manylinux_2_17_x86_64.manylinux2014_x86_64.whl.metadata (1.2 kB)\n",
            "Requirement already satisfied: orjson>=3.10.1 in /usr/local/lib/python3.12/dist-packages (from langgraph-sdk<0.3.0,>=0.2.2->langgraph) (3.11.3)\n",
            "Requirement already satisfied: anyio in /usr/local/lib/python3.12/dist-packages (from httpx->tavily-python) (4.11.0)\n",
            "Requirement already satisfied: certifi in /usr/local/lib/python3.12/dist-packages (from httpx->tavily-python) (2025.10.5)\n",
            "Requirement already satisfied: httpcore==1.* in /usr/local/lib/python3.12/dist-packages (from httpx->tavily-python) (1.0.9)\n",
            "Requirement already satisfied: idna in /usr/local/lib/python3.12/dist-packages (from httpx->tavily-python) (3.10)\n",
            "Requirement already satisfied: h11>=0.16 in /usr/local/lib/python3.12/dist-packages (from httpcore==1.*->httpx->tavily-python) (0.16.0)\n",
            "Requirement already satisfied: annotated-types>=0.6.0 in /usr/local/lib/python3.12/dist-packages (from pydantic>=2.7.4->langgraph) (0.7.0)\n",
            "Requirement already satisfied: pydantic-core==2.33.2 in /usr/local/lib/python3.12/dist-packages (from pydantic>=2.7.4->langgraph) (2.33.2)\n",
            "Requirement already satisfied: typing-inspection>=0.4.0 in /usr/local/lib/python3.12/dist-packages (from pydantic>=2.7.4->langgraph) (0.4.2)\n",
            "Requirement already satisfied: charset_normalizer<4,>=2 in /usr/local/lib/python3.12/dist-packages (from requests->tavily-python) (3.4.3)\n",
            "Requirement already satisfied: urllib3<3,>=1.21.1 in /usr/local/lib/python3.12/dist-packages (from requests->tavily-python) (2.5.0)\n",
            "Requirement already satisfied: regex>=2022.1.18 in /usr/local/lib/python3.12/dist-packages (from tiktoken>=0.5.1->tavily-python) (2024.11.6)\n",
            "Requirement already satisfied: httplib2<1.0.0,>=0.19.0 in /usr/local/lib/python3.12/dist-packages (from google-api-python-client->google-generativeai) (0.31.0)\n",
            "Requirement already satisfied: google-auth-httplib2<1.0.0,>=0.2.0 in /usr/local/lib/python3.12/dist-packages (from google-api-python-client->google-generativeai) (0.2.0)\n",
            "Requirement already satisfied: uritemplate<5,>=3.0.1 in /usr/local/lib/python3.12/dist-packages (from google-api-python-client->google-generativeai) (4.2.0)\n",
            "Requirement already satisfied: grpcio<2.0.0,>=1.33.2 in /usr/local/lib/python3.12/dist-packages (from google-api-core[grpc]!=2.0.*,!=2.1.*,!=2.10.*,!=2.2.*,!=2.3.*,!=2.4.*,!=2.5.*,!=2.6.*,!=2.7.*,!=2.8.*,!=2.9.*,<3.0.0dev,>=1.34.1->google-ai-generativelanguage==0.6.15->google-generativeai) (1.75.1)\n",
            "Requirement already satisfied: grpcio-status<2.0.0,>=1.33.2 in /usr/local/lib/python3.12/dist-packages (from google-api-core[grpc]!=2.0.*,!=2.1.*,!=2.10.*,!=2.2.*,!=2.3.*,!=2.4.*,!=2.5.*,!=2.6.*,!=2.7.*,!=2.8.*,!=2.9.*,<3.0.0dev,>=1.34.1->google-ai-generativelanguage==0.6.15->google-generativeai) (1.71.2)\n",
            "Requirement already satisfied: pyparsing<4,>=3.0.4 in /usr/local/lib/python3.12/dist-packages (from httplib2<1.0.0,>=0.19.0->google-api-python-client->google-generativeai) (3.2.5)\n",
            "Requirement already satisfied: jsonpointer>=1.9 in /usr/local/lib/python3.12/dist-packages (from jsonpatch<2.0.0,>=1.33.0->langchain-core>=0.1->langgraph) (3.0.0)\n",
            "Requirement already satisfied: requests-toolbelt>=1.0.0 in /usr/local/lib/python3.12/dist-packages (from langsmith<1.0.0,>=0.3.45->langchain-core>=0.1->langgraph) (1.0.0)\n",
            "Requirement already satisfied: zstandard>=0.23.0 in /usr/local/lib/python3.12/dist-packages (from langsmith<1.0.0,>=0.3.45->langchain-core>=0.1->langgraph) (0.25.0)\n",
            "Requirement already satisfied: pyasn1<0.7.0,>=0.6.1 in /usr/local/lib/python3.12/dist-packages (from pyasn1-modules>=0.2.1->google-auth>=2.15.0->google-generativeai) (0.6.1)\n",
            "Requirement already satisfied: sniffio>=1.1 in /usr/local/lib/python3.12/dist-packages (from anyio->httpx->tavily-python) (1.3.1)\n",
            "Downloading langgraph-0.6.10-py3-none-any.whl (155 kB)\n",
            "\u001b[2K   \u001b[90m━━━━━━━━━━━━━━━━━━━━━━━━━━━━━━━━━━━━━━━━\u001b[0m \u001b[32m155.4/155.4 kB\u001b[0m \u001b[31m3.5 MB/s\u001b[0m eta \u001b[36m0:00:00\u001b[0m\n",
            "\u001b[?25hDownloading tavily_python-0.7.12-py3-none-any.whl (15 kB)\n",
            "Downloading langgraph_checkpoint-2.1.2-py3-none-any.whl (45 kB)\n",
            "\u001b[2K   \u001b[90m━━━━━━━━━━━━━━━━━━━━━━━━━━━━━━━━━━━━━━━━\u001b[0m \u001b[32m45.8/45.8 kB\u001b[0m \u001b[31m2.1 MB/s\u001b[0m eta \u001b[36m0:00:00\u001b[0m\n",
            "\u001b[?25hDownloading langgraph_prebuilt-0.6.4-py3-none-any.whl (28 kB)\n",
            "Downloading langgraph_sdk-0.2.9-py3-none-any.whl (56 kB)\n",
            "\u001b[2K   \u001b[90m━━━━━━━━━━━━━━━━━━━━━━━━━━━━━━━━━━━━━━━━\u001b[0m \u001b[32m56.8/56.8 kB\u001b[0m \u001b[31m3.2 MB/s\u001b[0m eta \u001b[36m0:00:00\u001b[0m\n",
            "\u001b[?25hDownloading ormsgpack-1.11.0-cp312-cp312-manylinux_2_17_x86_64.manylinux2014_x86_64.whl (207 kB)\n",
            "\u001b[2K   \u001b[90m━━━━━━━━━━━━━━━━━━━━━━━━━━━━━━━━━━━━━━━━\u001b[0m \u001b[32m207.6/207.6 kB\u001b[0m \u001b[31m4.1 MB/s\u001b[0m eta \u001b[36m0:00:00\u001b[0m\n",
            "\u001b[?25hInstalling collected packages: ormsgpack, tavily-python, langgraph-sdk, langgraph-checkpoint, langgraph-prebuilt, langgraph\n",
            "Successfully installed langgraph-0.6.10 langgraph-checkpoint-2.1.2 langgraph-prebuilt-0.6.4 langgraph-sdk-0.2.9 ormsgpack-1.11.0 tavily-python-0.7.12\n"
          ]
        }
      ],
      "source": [
        "# Install necessary Python libraries for the project\n",
        "!pip install langgraph google-generativeai tavily-python\n"
      ]
    },
    {
      "cell_type": "markdown",
      "source": [
        "1(b) — API Keys Setup"
      ],
      "metadata": {
        "id": "25PBn0akiTPf"
      }
    },
    {
      "cell_type": "code",
      "source": [
        "# Import libraries for API clients and environment\n",
        "import os\n",
        "from tavily import TavilyClient\n",
        "import google.generativeai as genai\n",
        "from getpass import getpass\n",
        "\n",
        "# Take API keys from user input (hidden)\n",
        "tavily_key = getpass(\"Enter your TAVILY API Key: \")\n",
        "gemini_key = getpass(\"Enter your GEMINI API Key: \")\n",
        "\n",
        "# Set API keys as environment variables\n",
        "os.environ[\"TAVILY_API_KEY\"] = tavily_key\n",
        "os.environ[\"GEMINI_API_KEY\"] = gemini_key\n",
        "\n",
        "# Initialize clients\n",
        "tavily_client = TavilyClient(api_key=os.environ[\"TAVILY_API_KEY\"])\n",
        "genai.configure(api_key=os.environ[\"GEMINI_API_KEY\"])\n"
      ],
      "metadata": {
        "id": "qJ57J1YKiQPM",
        "colab": {
          "base_uri": "https://localhost:8080/"
        },
        "outputId": "de87e10a-d0c6-4b38-e015-c3b7b8c2f744"
      },
      "execution_count": null,
      "outputs": [
        {
          "name": "stdout",
          "output_type": "stream",
          "text": [
            "Enter your TAVILY API Key: ··········\n",
            "Enter your GEMINI API Key: ··········\n"
          ]
        }
      ]
    },
    {
      "cell_type": "markdown",
      "source": [
        "## 2 — Define Research State"
      ],
      "metadata": {
        "id": "AhEOPY8sid-d"
      }
    },
    {
      "cell_type": "markdown",
      "source": [
        "2(a) — ResearchState class"
      ],
      "metadata": {
        "id": "i5B3oA70ijV5"
      }
    },
    {
      "cell_type": "code",
      "source": [
        "from typing import List, Optional\n",
        "from pydantic import BaseModel\n",
        "\n",
        "# This class keeps track of the research session\n",
        "class ResearchState(BaseModel):\n",
        "    query: str  # User's original query\n",
        "    clarification_needed: bool = False  # Does the query need clarification?\n",
        "    follow_up_questions: Optional[List[str]] = None  # Questions for clarification\n",
        "    clarified_query: Optional[str] = None  # Query after clarification\n",
        "    research_brief: Optional[dict] = None  # Structured research brief\n",
        "    search_results: Optional[List[dict]] = None  # Results from web search\n",
        "    summary: Optional[str] = None  # Final research summary\n",
        "\n",
        "    # 🆕 Added for Reflection Tool\n",
        "    reflection_feedback: Optional[str] = None  # AI feedback before/after reflection\n",
        "    reflection_runs: int = 0  # How many times Tavily ran during reflection\n"
      ],
      "metadata": {
        "id": "m-G2JC6YibGS"
      },
      "execution_count": null,
      "outputs": []
    },
    {
      "cell_type": "markdown",
      "source": [
        "## 3 — Utilities"
      ],
      "metadata": {
        "id": "L2qve2dhiqnD"
      }
    },
    {
      "cell_type": "markdown",
      "source": [
        "3(a) — Helper functions"
      ],
      "metadata": {
        "id": "RDwa_HuVivXT"
      }
    },
    {
      "cell_type": "code",
      "source": [
        "# Estimate number of tokens roughly for LLM\n",
        "def estimate_tokens(text: str) -> int:\n",
        "    return int(len(text.split()) * 1.3)\n",
        "\n",
        "# Print JSON nicely for readability\n",
        "def safe_print_json(data):\n",
        "    import json\n",
        "    print(json.dumps(data, indent=2, ensure_ascii=False))\n"
      ],
      "metadata": {
        "id": "j55J7snEim7R"
      },
      "execution_count": null,
      "outputs": []
    },
    {
      "cell_type": "markdown",
      "source": [
        "## 4 — Clarification Agent (Task 1)"
      ],
      "metadata": {
        "id": "ZoKim5oLi2qY"
      }
    },
    {
      "cell_type": "markdown",
      "source": [
        "4(a) — Function"
      ],
      "metadata": {
        "id": "ouFDJIu6i8Xh"
      }
    },
    {
      "cell_type": "code",
      "source": [
        "def clarification_agent(state: ResearchState) -> ResearchState:\n",
        "    \"\"\"\n",
        "    Check if user's query is clear.\n",
        "    If not, ask max 2 follow-up questions.\n",
        "    \"\"\"\n",
        "    model = genai.GenerativeModel(\"gemini-2.5-flash\")\n",
        "\n",
        "    prompt = f\"\"\"\n",
        "You are a helpful research assistant.\n",
        "Given this user query:\n",
        "\n",
        "\"{state.query}\"\n",
        "\n",
        "Decide if clarification is needed.\n",
        "If yes, ask **max 2 clear and specific follow-up questions**.\n",
        "If not, confirm it's sufficient.\n",
        "\n",
        "Respond in JSON:\n",
        "{{\n",
        "  \"clarification_needed\": true/false,\n",
        "  \"follow_up_questions\": [..] or null\n",
        "}}\n",
        "\"\"\"\n",
        "    response = model.generate_content(prompt)\n",
        "    try:\n",
        "        parsed = response.text.strip()\n",
        "        import json, re\n",
        "\n",
        "        # Extract JSON safely\n",
        "        json_match = re.search(r\"\\{.*\\}\", parsed, re.DOTALL)\n",
        "        if json_match:\n",
        "            parsed_json = json.loads(json_match.group())\n",
        "            state.clarification_needed = parsed_json.get(\"clarification_needed\", False)\n",
        "            state.follow_up_questions = parsed_json.get(\"follow_up_questions\")\n",
        "        else:\n",
        "            state.clarification_needed = False\n",
        "            state.follow_up_questions = None\n",
        "    except Exception:\n",
        "        state.clarification_needed = False\n",
        "        state.follow_up_questions = None\n",
        "\n",
        "    return state\n"
      ],
      "metadata": {
        "id": "mpQI_Oa8i0B0"
      },
      "execution_count": null,
      "outputs": []
    },
    {
      "cell_type": "markdown",
      "source": [
        "## 5 — Research Brief Agent (Task 2)"
      ],
      "metadata": {
        "id": "pTRZGgRVjDru"
      }
    },
    {
      "cell_type": "markdown",
      "source": [
        "5(a) — Function"
      ],
      "metadata": {
        "id": "M8zfevtIjKdr"
      }
    },
    {
      "cell_type": "code",
      "source": [
        "def research_brief_agent(state: ResearchState) -> ResearchState:\n",
        "    \"\"\"\n",
        "    Generate a structured research brief based on clarified query.\n",
        "    \"\"\"\n",
        "    model = genai.GenerativeModel(\"gemini-2.5-flash\")\n",
        "\n",
        "    prompt = f\"\"\"\n",
        "You are an AI research planner. The user has clarified their topic as:\n",
        "\n",
        "\"{state.clarified_query}\"\n",
        "\n",
        "Create a structured research brief including:\n",
        "- Research Objective\n",
        "- Key Questions or Subtopics\n",
        "- Relevant Domains\n",
        "- Suggested Data or Sources\n",
        "- Expected Output\n",
        "\n",
        "Respond ONLY in JSON:\n",
        "{{\n",
        "  \"objective\": \"\",\n",
        "  \"key_questions\": [],\n",
        "  \"domains\": [],\n",
        "  \"suggested_sources\": [],\n",
        "  \"expected_output\": \"\"\n",
        "}}\n",
        "\"\"\"\n",
        "    response = model.generate_content(prompt)\n",
        "    import json, re\n",
        "    parsed = response.text.strip()\n",
        "    match = re.search(r\"\\{.*\\}\", parsed, re.DOTALL)\n",
        "    if match:\n",
        "        try:\n",
        "            state.research_brief = json.loads(match.group())\n",
        "        except Exception:\n",
        "            state.research_brief = {\"objective\": state.clarified_query}\n",
        "    else:\n",
        "        state.research_brief = {\"objective\": state.clarified_query}\n",
        "\n",
        "    return state\n"
      ],
      "metadata": {
        "id": "0WAGB4ErjHFi"
      },
      "execution_count": null,
      "outputs": []
    },
    {
      "cell_type": "markdown",
      "source": [
        "## 6 — Query Generator"
      ],
      "metadata": {
        "id": "1myPSP9cjNwn"
      }
    },
    {
      "cell_type": "markdown",
      "source": [
        "6(a) — Function"
      ],
      "metadata": {
        "id": "VVBlOSgpjTns"
      }
    },
    {
      "cell_type": "code",
      "source": [
        "# If user clarified query exists, use it. Otherwise use original query\n",
        "def query_generator(state: ResearchState) -> ResearchState:\n",
        "    if not state.clarified_query:\n",
        "        state.clarified_query = state.query\n",
        "    return state\n"
      ],
      "metadata": {
        "id": "yySLH_A1jNf2"
      },
      "execution_count": null,
      "outputs": []
    },
    {
      "cell_type": "markdown",
      "source": [
        "## 7 — Research Pipeline"
      ],
      "metadata": {
        "id": "iUG4UQ8djghy"
      }
    },
    {
      "cell_type": "markdown",
      "source": [
        "7(a) — Function"
      ],
      "metadata": {
        "id": "XaF2qmNmjleT"
      }
    },
    {
      "cell_type": "code",
      "source": [
        "def research_pipeline(state: ResearchState) -> ResearchState:\n",
        "    \"\"\"\n",
        "    If query needs research (keywords present), search online via Tavily.\n",
        "    Then summarize results using Gemini LLM.\n",
        "    \"\"\"\n",
        "    keywords = [\"latest\", \"statistics\", \"research\", \"compare\", \"trends\", \"report\"]\n",
        "    if any(kw in state.clarified_query.lower() for kw in keywords):\n",
        "        print(\"🔎 Running Tavily search...\")\n",
        "        search = tavily_client.search(state.clarified_query, max_results=3)\n",
        "        state.search_results = search.get(\"results\", [])\n",
        "    else:\n",
        "        print(\"⚡ Skipping web search (not needed).\")\n",
        "        state.search_results = []\n",
        "\n",
        "    model = genai.GenerativeModel(\"gemini-2.5-flash\")\n",
        "    context = \"\"\n",
        "    if state.search_results:\n",
        "        for r in state.search_results:\n",
        "            context += f\"- {r.get('title','')} :: {r.get('content','')[:200]}\\n\"\n",
        "\n",
        "    summary_prompt = f\"\"\"\n",
        "User query: {state.clarified_query}\n",
        "\n",
        "Context (may be empty):\n",
        "{context}\n",
        "\n",
        "Provide a clear, agent-like research summary.\n",
        "\"\"\"\n",
        "    response = model.generate_content(summary_prompt)\n",
        "    state.summary = response.text.strip()\n",
        "    return state\n"
      ],
      "metadata": {
        "id": "kFN3uw5OjgOz"
      },
      "execution_count": null,
      "outputs": []
    },
    {
      "cell_type": "markdown",
      "source": [
        "7(b) — Reflection Agent"
      ],
      "metadata": {
        "id": "i4e_fDPBwRM6"
      }
    },
    {
      "cell_type": "code",
      "source": [
        "def reflection_agent(state: ResearchState) -> ResearchState:\n",
        "    \"\"\"\n",
        "    Evaluates the first summary and decides if it’s complete.\n",
        "    If not, re-runs Tavily up to 2 more times to improve the result.\n",
        "    Returns updated state with improved summary and reflection feedback.\n",
        "    \"\"\"\n",
        "    model = genai.GenerativeModel(\"gemini-2.5-flash\")\n",
        "    reflection_feedback = \"\"\n",
        "    reflection_runs = 0  # count how many times Tavily re-runs\n",
        "\n",
        "    # Step 1: Ask Gemini to critique the first summary\n",
        "    critique_prompt = f\"\"\"\n",
        "You are a reflection evaluator.\n",
        "Here is the user's clarified query:\n",
        "\"{state.clarified_query}\"\n",
        "\n",
        "And here is the research summary generated earlier:\n",
        "\"{state.summary}\"\n",
        "\n",
        "Critically evaluate this summary.\n",
        "Say whether it is clear, complete, and accurate.\n",
        "If it lacks depth or certainty, say it needs re-research.\n",
        "Respond in JSON:\n",
        "{{\n",
        "  \"needs_reflection\": true/false,\n",
        "  \"feedback\": \"string explaining the decision\"\n",
        "}}\n",
        "\"\"\"\n",
        "    critique_response = model.generate_content(critique_prompt)\n",
        "    import json, re\n",
        "    parsed = critique_response.text.strip()\n",
        "    match = re.search(r\"\\{.*\\}\", parsed, re.DOTALL)\n",
        "\n",
        "    needs_reflection = False\n",
        "    if match:\n",
        "        try:\n",
        "            data = json.loads(match.group())\n",
        "            needs_reflection = data.get(\"needs_reflection\", False)\n",
        "            reflection_feedback = data.get(\"feedback\", \"\")\n",
        "        except Exception:\n",
        "            reflection_feedback = \"Reflection JSON parse error.\"\n",
        "\n",
        "    # Step 2: If Gemini says it needs improvement, re-run Tavily up to 2 more times\n",
        "    if needs_reflection:\n",
        "        new_context = \"\"\n",
        "        for i in range(2):  # max 2 additional searches\n",
        "            reflection_runs += 1\n",
        "            print(f\"🔁 Reflection pass {i+1}: running Tavily again...\")\n",
        "            search = tavily_client.search(state.clarified_query, max_results=3)\n",
        "            results = search.get(\"results\", [])\n",
        "            for r in results:\n",
        "                new_context += f\"- {r.get('title','')} :: {r.get('content','')[:200]}\\n\"\n",
        "\n",
        "        # Step 3: Combine old + new context and re-summarize\n",
        "        combined_context = new_context\n",
        "        reflection_prompt = f\"\"\"\n",
        "User query: {state.clarified_query}\n",
        "\n",
        "Context from reflection searches:\n",
        "{combined_context}\n",
        "\n",
        "Write an improved, well-rounded, and up-to-date research summary.\n",
        "\"\"\"\n",
        "        improved_response = model.generate_content(reflection_prompt)\n",
        "        state.summary = improved_response.text.strip()\n",
        "    else:\n",
        "        reflection_feedback += \" (No reflection needed.)\"\n",
        "\n",
        "    # Save reflection details in state (optional)\n",
        "    state.reflection_feedback = reflection_feedback\n",
        "    state.reflection_runs = reflection_runs\n",
        "    return state\n"
      ],
      "metadata": {
        "id": "ek1ybkmKwLdf"
      },
      "execution_count": null,
      "outputs": []
    },
    {
      "cell_type": "markdown",
      "source": [
        "## 8 — LangGraph Workflow"
      ],
      "metadata": {
        "id": "1OYYr1RCjvDF"
      }
    },
    {
      "cell_type": "markdown",
      "source": [
        "8(a) — Define workflow"
      ],
      "metadata": {
        "id": "fXRaPvZgjz6y"
      }
    },
    {
      "cell_type": "code",
      "source": [
        "from langgraph.graph import StateGraph, END\n",
        "\n",
        "workflow = StateGraph(ResearchState)\n",
        "\n",
        "workflow.add_node(\"clarification\", clarification_agent)\n",
        "workflow.add_node(\"brief_agent\", research_brief_agent)   # added before pipeline\n",
        "workflow.add_node(\"query_gen\", query_generator)\n",
        "workflow.add_node(\"pipeline\", research_pipeline)\n",
        "\n",
        "workflow.set_entry_point(\"clarification\")\n",
        "workflow.add_edge(\"clarification\", \"brief_agent\")\n",
        "workflow.add_edge(\"brief_agent\", \"query_gen\")\n",
        "workflow.add_edge(\"query_gen\", \"pipeline\")\n",
        "workflow.add_edge(\"pipeline\", END)\n",
        "\n",
        "graph = workflow.compile()\n"
      ],
      "metadata": {
        "id": "jx0H4QkEjuz6"
      },
      "execution_count": null,
      "outputs": []
    },
    {
      "cell_type": "markdown",
      "source": [
        "## 9 — Chatbot Loop"
      ],
      "metadata": {
        "id": "BcboKR4Qj_U7"
      }
    },
    {
      "cell_type": "markdown",
      "source": [
        "9(a) — Function"
      ],
      "metadata": {
        "id": "fUSqivuEkEKp"
      }
    },
    {
      "cell_type": "code",
      "source": [
        "#Chatbot Loop (with Reflection)\n",
        "\n",
        "def chatbot():\n",
        "    print(\"🤖 Research Agent Ready (with Reflection Tool)\\n\")\n",
        "    while True:\n",
        "        query = input(\"You: \").strip()\n",
        "        if query.lower() in [\"exit\", \"quit\"]:\n",
        "            print(\"👋 Ending session.\")\n",
        "            break\n",
        "\n",
        "        state = ResearchState(query=query)\n",
        "\n",
        "        # Step 1: Clarification\n",
        "        state = clarification_agent(state)\n",
        "        if state.clarification_needed and state.follow_up_questions:\n",
        "            print(\"\\n🤖 I need a bit more info:\")\n",
        "            for q in state.follow_up_questions:\n",
        "                print(\" -\", q)\n",
        "            ans = input(\"\\nYour clarification: \").strip()\n",
        "            state.clarified_query = f\"{state.query} | Clarified: {ans}\"\n",
        "        else:\n",
        "            state.clarified_query = state.query\n",
        "\n",
        "        # Step 2: Research Brief\n",
        "        state = research_brief_agent(state)\n",
        "        # (brief generation)\n",
        "        # safe_print_json(state.research_brief)\n",
        "\n",
        "        # Step 3: Query Generation\n",
        "        state = query_generator(state)\n",
        "\n",
        "        # Step 4: First Research Run\n",
        "        state = research_pipeline(state)\n",
        "\n",
        "        print(\"\\n🧩 Before Reflection:\")\n",
        "        print(state.summary)\n",
        "\n",
        "        # Step 5: Reflection Agent\n",
        "        print(\"\\n💭 Running Reflection Tool...\")\n",
        "        state = reflection_agent(state)\n",
        "\n",
        "        print(\"\\n💬 Reflection Feedback:\")\n",
        "        print(state.reflection_feedback)\n",
        "\n",
        "        print(\"\\n✅ After Reflection:\")\n",
        "        print(state.summary)\n",
        "\n",
        "        print(f\"\\n🔁 Tavily ran {state.reflection_runs} extra time(s) during reflection.\\n\")\n",
        "        print(\"-------------------------------------------------------\\n\")\n",
        "chatbot()"
      ],
      "metadata": {
        "id": "E_KCu7Axj_G3",
        "colab": {
          "base_uri": "https://localhost:8080/",
          "height": 1000
        },
        "outputId": "62e29794-d30c-4c07-d63d-9560ccdbf214"
      },
      "execution_count": null,
      "outputs": [
        {
          "output_type": "stream",
          "name": "stdout",
          "text": [
            "🤖 Research Agent Ready (with Reflection Tool)\n",
            "\n",
            "You: Compare the 2025 EV market share between Tata, Mahindra, and Tesla in India.\n",
            "\n",
            "🤖 I need a bit more info:\n",
            " - Are you interested in the overall EV market share (including both passenger and commercial vehicles), or specifically the passenger EV market share?\n",
            "\n",
            "Your clarification: Passenger cars, based on unit sales volume.\n",
            "🔎 Running Tavily search...\n",
            "\n",
            "🧩 Before Reflection:\n",
            "Based on the provided context, here's a comparison of the 2025 EV passenger car market share between Tata, Mahindra, and Tesla in India:\n",
            "\n",
            "*   **Dominance of Tata, Mahindra (and MG):** For **May 2025**, Tata, MG, and Mahindra **together accounted for 87.3%** of the total Indian EV passenger car market, which stood at 12,197 units for that month. This indicates that Tata and Mahindra are significant players, holding a vast majority of the market share alongside MG Motor India.\n",
            "*   **Individual Shares (Not Specified):** While their combined share is high, the provided context **does not give individual market share percentages** for Tata and Mahindra for the EV passenger car segment.\n",
            "*   **Tesla's Position:** The context **does not mention Tesla's market share** for 2025. Given that Tata, MG, and Mahindra collectively held 87.3% of the market in May 2025, it implies that Tesla had a very small or negligible market share in the Indian passenger EV segment during this period, at least compared to these established players.\n",
            "\n",
            "In summary, as of May 2025, Tata and Mahindra were strong contenders, along with MG, dominating nearly 90% of the passenger EV market. Tesla's market share is not indicated but appears to be minimal compared to these domestic and established foreign brands.\n",
            "\n",
            "💭 Running Reflection Tool...\n",
            "🔁 Reflection pass 1: running Tavily again...\n",
            "🔁 Reflection pass 2: running Tavily again...\n",
            "\n",
            "💬 Reflection Feedback:\n",
            "The summary is clear and accurate in what it *does* state, but it is incomplete and therefore lacks depth for the user's clarified query. It explicitly states that individual market share percentages for Tata and Mahindra are not specified, and Tesla's market share is not mentioned at all. While it provides a combined share with MG, this does not allow for the requested comparison between Tata, Mahindra, and Tesla individually. To fully answer the query, individual 2025 EV passenger car market shares for each of the three companies (Tata, Mahindra, and Tesla) are needed. This indicates a need for re-research to gather that specific, missing data.\n",
            "\n",
            "✅ After Reflection:\n",
            "Based on the available information for 2025, the Indian passenger EV market share comparison between Tata, Mahindra, and Tesla shows a clear dominance by domestic players, with Tesla having no discernible presence within the provided context.\n",
            "\n",
            "Here's a breakdown:\n",
            "\n",
            "1.  **Tata Motors:** Tata Motors firmly held the position of the market leader in India's passenger EV segment throughout 2025. In **September 2025**, approximately 15% of its total vehicle sales (40,718 units) were EVs, translating to an estimated **6,108 EV units**. Although facing increasing competition, Tata was still the frontrunner as of **May 2025**, when it, along with MG and Mahindra, collectively accounted for 87.3% of the total EV market of 12,197 units.\n",
            "\n",
            "2.  **Mahindra & Mahindra:** Mahindra emerged as a strong contender and was actively closing the gap with Tata. In **September 2025**, 8.6% of its total vehicle sales (37,113 units) were EVs, equating to an estimated **3,192 EV units**. This placed Mahindra as a significant player, particularly as it was noted to be \"closing in on Tata\" by **May 2025**, indicating its growing market presence and competitive offering (likely driven by models like the XUV400).\n",
            "\n",
            "3.  **Tesla:** The provided context offers **no data or mention of Tesla's EV sales or market share in India for 2025**. This suggests that, based on the available information for that period, Tesla either had not yet significantly entered the Indian passenger EV market, or its sales volume was negligible compared to the established domestic players.\n",
            "\n",
            "**Summary of 2025 EV Market Share (Passenger Cars, based on unit sales volume):**\n",
            "\n",
            "*   **Tata Motors** maintained its leadership position, selling an estimated ~6,108 passenger EV units in September 2025.\n",
            "*   **Mahindra & Mahindra** was a strong and growing challenger, selling an estimated ~3,192 passenger EV units in September 2025, and actively gaining market share against Tata.\n",
            "*   **Tesla** had no reported sales or market share within the provided 2025 data, indicating a minimal or non-existent presence in the Indian passenger EV market during that period.\n",
            "\n",
            "The Indian passenger EV market in 2025 was largely dominated by domestic manufacturers like Tata and Mahindra, with JSW MG Motor India also being a significant player, collectively holding the vast majority of the market share.\n",
            "\n",
            "🔁 Tavily ran 2 extra time(s) during reflection.\n",
            "\n",
            "-------------------------------------------------------\n",
            "\n",
            "You: I want to travel from Delhi to Jaipur next month. What is the current train ticket price, and which are the best tourist places to visit in Jaipur?\n",
            "\n",
            "🤖 I need a bit more info:\n",
            " - Could you please specify the exact date or a range of dates you plan to travel next month for the train ticket price?\n",
            " - Do you have a preferred class of travel (e.g., Sleeper, AC Chair Car, 3AC, 2AC) for the train?\n",
            "\n",
            "Your clarification: I plan to travel on 25th October 2025, and I prefer 3AC class.\n",
            "⚡ Skipping web search (not needed).\n",
            "\n",
            "🧩 Before Reflection:\n",
            "Here's a summary of the train ticket price and best tourist places for your trip from Delhi to Jaipur on October 25, 2025:\n",
            "\n",
            "---\n",
            "\n",
            "### Research Summary for Delhi to Jaipur Travel\n",
            "\n",
            "**Travel Date:** October 25, 2025\n",
            "**Class Preference:** 3AC\n",
            "\n",
            "**1. Train Ticket Price (Delhi to Jaipur, 3AC)**\n",
            "\n",
            "*   **Current Status:** Please note that train bookings for October 25, 2025, are **not yet open**. Indian Railways generally opens bookings 120 days in advance. You will be able to book your tickets around **June 2025**.\n",
            "*   **Estimated Price Range (3AC):** Based on current fares for similar journeys, the approximate price for a 3AC ticket from Delhi to Jaipur typically ranges from **INR 700 to INR 1000**.\n",
            "*   **Popular Trains with 3AC:**\n",
            "    *   **Jaipur Duronto Express (12215):** A fast option with 3AC.\n",
            "    *   **Chetak Express (20977):** Another good overnight option.\n",
            "    *   **Ajmer Shatabdi Express (12015):** Primarily CC (Chair Car) and EC (Executive Chair Car), but some other trains on this route offer 3AC. Look for trains like Malani Express, Pooja Express, etc.\n",
            "*   **Recommendation:** Once bookings open in June 2025, it's advisable to book your tickets as early as possible, especially for preferred classes and dates, as prices can be dynamic and availability may be limited.\n",
            "\n",
            "**2. Best Tourist Places to Visit in Jaipur**\n",
            "\n",
            "Jaipur, the \"Pink City,\" offers a rich tapestry of history, culture, and architecture. Here are some of its best tourist attractions:\n",
            "\n",
            "1.  **Amer Fort (Amber Fort):** A magnificent fort-palace located a short drive from the city. Known for its artistic style, combining Hindu and Rajput elements, with beautiful courtyards, palaces, halls, and the famous Sheesh Mahal (Mirror Palace). Don't miss the elephant ride up to the fort.\n",
            "2.  **Hawa Mahal (Palace of Winds):** An iconic five-story palace with a unique exterior resembling a beehive, featuring 953 small windows (jharokhas). It was designed to allow royal ladies to observe street festivities without being seen.\n",
            "3.  **City Palace:** A sprawling complex that houses a blend of Rajput and Mughal architecture. It includes several palaces (Chandra Mahal, Mubarak Mahal), courtyards, gardens, and a museum showcasing royal costumes, weapons, and artifacts.\n",
            "4.  **Jantar Mantar:** A UNESCO World Heritage Site, this is an astronomical observatory built by Maharaja Sawai Jai Singh II. It features a collection of nineteen architectural astronomical instruments, including the world's largest stone sundial.\n",
            "5.  **Nahargarh Fort:** Perched on the Aravalli hills overlooking Jaipur, this fort offers stunning panoramic views of the city, especially at sunset. It's also known for the Madhavendra Bhawan, a unique palace with nine identical suites for the Maharaja's nine queens.\n",
            "6.  **Jaigarh Fort:** Located near Amer Fort, this fort is known for its massive walls and houses the \"Jaivana,\" the world's largest cannon on wheels. It offers excellent views and historical insights.\n",
            "7.  **Albert Hall Museum:** The oldest museum in Rajasthan, showcasing a diverse collection of artifacts including paintings, carpets, ivory, stone, metal sculptures, and an Egyptian mummy.\n",
            "8.  **Birla Mandir (Laxmi Narayan Temple):** A beautiful modern temple constructed with pure white marble, dedicated to Lord Vishnu (Narayan) and Goddess Lakshmi. It offers a serene atmosphere and intricate carvings.\n",
            "9.  **Jal Mahal:** A picturesque palace floating in the middle of Man Sagar Lake. While you cannot enter it, its serene beauty and reflections on the water make for a captivating sight and great photo opportunities.\n",
            "\n",
            "---\n",
            "\n",
            "💭 Running Reflection Tool...\n",
            "\n",
            "💬 Reflection Feedback:\n",
            "The summary is clear, complete, and accurate. It directly addresses the user's clarified query, accurately stating that train bookings for the specified date are not yet open while providing an estimated price range and the booking window. The list of tourist places is comprehensive and well-described. There is no lack of depth or certainty in the research itself; rather, it accurately reflects the current booking status for a future date. Therefore, it does not need re-research. (No reflection needed.)\n",
            "\n",
            "✅ After Reflection:\n",
            "Here's a summary of the train ticket price and best tourist places for your trip from Delhi to Jaipur on October 25, 2025:\n",
            "\n",
            "---\n",
            "\n",
            "### Research Summary for Delhi to Jaipur Travel\n",
            "\n",
            "**Travel Date:** October 25, 2025\n",
            "**Class Preference:** 3AC\n",
            "\n",
            "**1. Train Ticket Price (Delhi to Jaipur, 3AC)**\n",
            "\n",
            "*   **Current Status:** Please note that train bookings for October 25, 2025, are **not yet open**. Indian Railways generally opens bookings 120 days in advance. You will be able to book your tickets around **June 2025**.\n",
            "*   **Estimated Price Range (3AC):** Based on current fares for similar journeys, the approximate price for a 3AC ticket from Delhi to Jaipur typically ranges from **INR 700 to INR 1000**.\n",
            "*   **Popular Trains with 3AC:**\n",
            "    *   **Jaipur Duronto Express (12215):** A fast option with 3AC.\n",
            "    *   **Chetak Express (20977):** Another good overnight option.\n",
            "    *   **Ajmer Shatabdi Express (12015):** Primarily CC (Chair Car) and EC (Executive Chair Car), but some other trains on this route offer 3AC. Look for trains like Malani Express, Pooja Express, etc.\n",
            "*   **Recommendation:** Once bookings open in June 2025, it's advisable to book your tickets as early as possible, especially for preferred classes and dates, as prices can be dynamic and availability may be limited.\n",
            "\n",
            "**2. Best Tourist Places to Visit in Jaipur**\n",
            "\n",
            "Jaipur, the \"Pink City,\" offers a rich tapestry of history, culture, and architecture. Here are some of its best tourist attractions:\n",
            "\n",
            "1.  **Amer Fort (Amber Fort):** A magnificent fort-palace located a short drive from the city. Known for its artistic style, combining Hindu and Rajput elements, with beautiful courtyards, palaces, halls, and the famous Sheesh Mahal (Mirror Palace). Don't miss the elephant ride up to the fort.\n",
            "2.  **Hawa Mahal (Palace of Winds):** An iconic five-story palace with a unique exterior resembling a beehive, featuring 953 small windows (jharokhas). It was designed to allow royal ladies to observe street festivities without being seen.\n",
            "3.  **City Palace:** A sprawling complex that houses a blend of Rajput and Mughal architecture. It includes several palaces (Chandra Mahal, Mubarak Mahal), courtyards, gardens, and a museum showcasing royal costumes, weapons, and artifacts.\n",
            "4.  **Jantar Mantar:** A UNESCO World Heritage Site, this is an astronomical observatory built by Maharaja Sawai Jai Singh II. It features a collection of nineteen architectural astronomical instruments, including the world's largest stone sundial.\n",
            "5.  **Nahargarh Fort:** Perched on the Aravalli hills overlooking Jaipur, this fort offers stunning panoramic views of the city, especially at sunset. It's also known for the Madhavendra Bhawan, a unique palace with nine identical suites for the Maharaja's nine queens.\n",
            "6.  **Jaigarh Fort:** Located near Amer Fort, this fort is known for its massive walls and houses the \"Jaivana,\" the world's largest cannon on wheels. It offers excellent views and historical insights.\n",
            "7.  **Albert Hall Museum:** The oldest museum in Rajasthan, showcasing a diverse collection of artifacts including paintings, carpets, ivory, stone, metal sculptures, and an Egyptian mummy.\n",
            "8.  **Birla Mandir (Laxmi Narayan Temple):** A beautiful modern temple constructed with pure white marble, dedicated to Lord Vishnu (Narayan) and Goddess Lakshmi. It offers a serene atmosphere and intricate carvings.\n",
            "9.  **Jal Mahal:** A picturesque palace floating in the middle of Man Sagar Lake. While you cannot enter it, its serene beauty and reflections on the water make for a captivating sight and great photo opportunities.\n",
            "\n",
            "---\n",
            "\n",
            "🔁 Tavily ran 0 extra time(s) during reflection.\n",
            "\n",
            "-------------------------------------------------------\n",
            "\n",
            "You: What is the current price of gold per gram in India, and what are the top 3 cities for gold buying in India?\n",
            "\n",
            "🤖 I need a bit more info:\n",
            " - For the current gold price, are you interested in 24-karat (99.9% pure) or 22-karat (91.6% pure) gold?\n",
            " - Regarding the 'top 3 cities for gold buying,' what criteria are you most interested in (e.g., sales volume, best pricing, traditional gold hubs)?\n",
            "\n",
            "Your clarification: I am interested in 24-karat gold prices, and for the top 3 cities, I want them based on best pricing and popularity as gold buying hubs.\n",
            "⚡ Skipping web search (not needed).\n",
            "\n",
            "🧩 Before Reflection:\n",
            "Here's a research summary regarding gold prices and buying hubs in India:\n",
            "\n",
            "### Gold Price (24-Karat Gold per Gram in India)\n",
            "\n",
            "As of **[Today's Date - e.g., May 15, 2024]**, the indicative price for **24-karat gold (99.9% purity) in India is approximately ₹7,300 - ₹7,320 per gram.**\n",
            "\n",
            "*   **Note:** Gold prices are highly dynamic and fluctuate throughout the day based on international market trends, currency exchange rates, and local demand. This is an approximate national average, and actual prices may vary slightly by city and specific jeweler.\n",
            "\n",
            "### Top 3 Cities for Gold Buying in India\n",
            "\n",
            "Based on best pricing, competitive markets, and popularity as major gold buying hubs, the following cities stand out:\n",
            "\n",
            "1.  **Chennai, Tamil Nadu:**\n",
            "    *   **Reasoning:** Often referred to as the \"Gold Capital of India,\" Chennai boasts a high concentration of both traditional and modern jewelers. The intense competition among vendors, coupled with a strong local demand for gold, often results in very competitive pricing and a vast array of designs, particularly traditional South Indian jewelry. It's a major hub for gold imports and trade.\n",
            "2.  **Mumbai, Maharashtra:**\n",
            "    *   **Reasoning:** As India's financial capital and a major port city, Mumbai is a primary entry point for gold into the country. Its famous Zaveri Bazaar is one of the oldest and largest gold markets globally. The sheer volume of trade, large number of wholesalers and retailers, and presence of major gold exchanges contribute to highly competitive pricing and a diverse selection, making it a popular choice for both consumers and traders.\n",
            "3.  **Delhi (National Capital Region):**\n",
            "    *   **Reasoning:** The National Capital Region represents a massive consumer market with a significant number of gold jewelers, ranging from large retail chains to independent stores. Areas like Karol Bagh, Chandni Chowk, and South Extension are renowned for their gold markets. The high competition among jewelers, combined with strong purchasing power, often ensures good pricing and an extensive variety of designs, catering to diverse tastes across North India.\n",
            "\n",
            "💭 Running Reflection Tool...\n",
            "🔁 Reflection pass 1: running Tavily again...\n",
            "🔁 Reflection pass 2: running Tavily again...\n",
            "\n",
            "💬 Reflection Feedback:\n",
            "The summary is clear and largely complete. The selection of top 3 cities and their reasoning is good and aligns with the criteria of best pricing and popularity. However, the gold price section contains a placeholder for '[Today's Date - e.g., May 15, 2024]'. For the summary to be accurate and current as requested by the query, this placeholder *must* be replaced with the actual current date and the corresponding gold price. As it stands, the information regarding the 'current price' is not fully present or accurate for a specific date, making it incomplete in a crucial aspect.\n",
            "\n",
            "✅ After Reflection:\n",
            "Based on the provided context for **14 October 2025**:\n",
            "\n",
            "The current price of 24-karat gold (999 purity) in India is **₹12,558 per gram**. It's important to note that minor fluctuations can occur throughout the day and across different retailers. Some sources indicate prices slightly higher, such as ₹12,835 per gram, or ₹12,615 per gram (derived from ₹1,26,150 per 10 grams).\n",
            "\n",
            "Regarding the top 3 cities for gold buying in India, based on best pricing and popularity as gold buying hubs, while specific real-time pricing advantages can be marginal and fluctuate, the following cities are consistently recognized as major gold hubs due to high demand, extensive markets, and competitive pricing:\n",
            "\n",
            "1.  **Mumbai:** As India's financial capital, Mumbai hosts a significant bullion market and a vast array of jewelers, making it a primary hub for gold trading and consumption. Its high volume ensures competitive pricing for both pure gold and jewelry.\n",
            "2.  **Chennai:** Often referred to as the \"Gold Capital of India,\" Chennai has a deep cultural affinity for gold and an exceptionally large number of gold retailers. This intense competition and high demand generally lead to competitive pricing and a wide selection.\n",
            "3.  **Delhi:** Being a major metropolitan area and a gateway to North India, Delhi boasts a huge consumer market and a bustling gold trade. It's a popular destination for gold purchases, with numerous established jewelers and a dynamic market ensuring competitive rates.\n",
            "\n",
            "These cities are prominent due to their large consumer bases, well-established gold markets, and the presence of numerous reputable jewelers, which collectively contribute to competitive pricing and high popularity for gold buying.\n",
            "\n",
            "🔁 Tavily ran 2 extra time(s) during reflection.\n",
            "\n",
            "-------------------------------------------------------\n",
            "\n",
            "You: quit\n",
            "👋 Ending session.\n"
          ]
        }
      ]
    }
  ]
}